{
 "cells": [
  {
   "cell_type": "code",
   "execution_count": 1,
   "metadata": {},
   "outputs": [],
   "source": [
    "import numpy as np \n",
    "import pandas as pd \n",
    "from sklearn.preprocessing import MinMaxScaler\n",
    "from sklearn.model_selection import train_test_split\n",
    "from sklearn.ensemble import RandomForestRegressor\n",
    "from sklearn.model_selection import train_test_split\n",
    "from sklearn import metrics\n",
    "from sklearn.metrics import accuracy_score, confusion_matrix, classification_report\n",
    "import matplotlib.pyplot as plt\n",
    "import seaborn as sns"
   ]
  },
  {
   "cell_type": "code",
   "execution_count": 2,
   "metadata": {},
   "outputs": [],
   "source": [
    "train_data = pd.read_csv(r\"Data\\train_data_binned.csv\")\n",
    "test_data = pd.read_csv(r\"Data\\test_data_binned.csv\")"
   ]
  },
  {
   "cell_type": "code",
   "execution_count": 3,
   "metadata": {},
   "outputs": [
    {
     "data": {
      "text/plain": [
       "['Feature 1',\n",
       " 'Feature 2',\n",
       " 'Feature 3',\n",
       " 'Feature 4',\n",
       " 'Feature 5',\n",
       " 'Feature 6',\n",
       " 'Feature 7',\n",
       " 'Feature 8',\n",
       " 'Feature 9',\n",
       " 'Feature 10',\n",
       " 'Feature 11',\n",
       " 'Feature 12',\n",
       " 'Feature 13',\n",
       " 'Feature 14',\n",
       " 'Feature 15',\n",
       " 'Feature 16',\n",
       " 'Feature 17',\n",
       " 'Feature 18',\n",
       " 'Feature 19',\n",
       " 'Feature 20',\n",
       " 'Feature 21',\n",
       " 'Feature 22',\n",
       " 'Feature 23',\n",
       " 'Feature  24',\n",
       " 'Feature 25',\n",
       " 'Feature 26']"
      ]
     },
     "execution_count": 3,
     "metadata": {},
     "output_type": "execute_result"
    }
   ],
   "source": [
    "col = list(train_data.columns)\n",
    "col.remove('Unnamed: 0')\n",
    "col.remove('Unnamed: 0.1')\n",
    "col.remove('id')\n",
    "col.remove('price')\n",
    "col.remove('bin')\n",
    "#col.remove('Feature 2')\n",
    "#col.remove('Feature 3')\n",
    "#col.remove('Feature 4')\n",
    "#col.remove('Feature 5')\n",
    "#col.remove('Feature 6')\n",
    "#col.remove('Feature 11')\n",
    "#col.remove('Feature 15')\n",
    "#col.remove('Feature 18')\n",
    "#col.remove('Feature 19')\n",
    "#col.remove('Feature 20')\n",
    "#col.remove('Feature 21')\n",
    "col"
   ]
  },
  {
   "cell_type": "code",
   "execution_count": 4,
   "metadata": {},
   "outputs": [],
   "source": [
    "train_data['train-test'] = \"train\"\n",
    "test_data['train-test'] = \"test\""
   ]
  },
  {
   "cell_type": "code",
   "execution_count": null,
   "metadata": {},
   "outputs": [],
   "source": []
  }
 ],
 "metadata": {
  "kernelspec": {
   "display_name": "ml",
   "language": "python",
   "name": "python3"
  },
  "language_info": {
   "codemirror_mode": {
    "name": "ipython",
    "version": 3
   },
   "file_extension": ".py",
   "mimetype": "text/x-python",
   "name": "python",
   "nbconvert_exporter": "python",
   "pygments_lexer": "ipython3",
   "version": "3.8.16"
  },
  "orig_nbformat": 4
 },
 "nbformat": 4,
 "nbformat_minor": 2
}
